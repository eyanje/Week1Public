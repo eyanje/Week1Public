{
 "cells": [
  {
   "cell_type": "code",
   "execution_count": 1,
   "metadata": {},
   "outputs": [],
   "source": [
    "#import needed libraries\n",
    "import pandas as pd\n",
    "import numpy as np\n",
    "import matplotlib.pyplot as plt\n",
    "import math\n",
    "import seaborn as sns\n",
    "import os\n",
    "import sklearn\n",
    "import sklearn.model_selection\n",
    "import sklearn.linear_model\n",
    "import sklearn.svm\n",
    "from scipy import stats\n",
    "from urllib import request\n",
    "from bs4 import BeautifulSoup\n",
    "from sklearn.impute import SimpleImputer\n",
    "\n",
    "import sklearn.tree\n",
    "from sklearn import metrics\n",
    "from sklearn.metrics import confusion_matrix\n"
   ]
  },
  {
   "cell_type": "code",
   "execution_count": 2,
   "metadata": {},
   "outputs": [
    {
     "name": "stderr",
     "output_type": "stream",
     "text": [
      "C:\\Users\\admin\\Anaconda3\\lib\\site-packages\\IPython\\core\\interactiveshell.py:3020: DtypeWarning: Columns (4161,6598,6599,6601) have mixed types. Specify dtype option on import or set low_memory=False.\n",
      "  interactivity=interactivity, compiler=compiler, result=result)\n"
     ]
    }
   ],
   "source": [
    "#import data\n",
    "diagnosis_dataset = pd.read_sas('hepatitisdata/HEQ_I.XPT')\n",
    "#print(diagnosis_dataset.head())\n",
    "occupation_dataset = pd.read_sas('hepatitisdata/OCQ_I.XPT')\n",
    "#print(occupation_dataset.head())\n",
    "dataset = pd.read_csv('nhanes_yrs5.csv')\n",
    "# Write your code here"
   ]
  },
  {
   "cell_type": "code",
   "execution_count": 3,
   "metadata": {},
   "outputs": [],
   "source": [
    "#dropping unnecessary variables (don't worry about this)\n",
    "dataset = dataset[dataset.columns.drop(list(dataset.filter(regex='WT')))]\n",
    "dataset = dataset[dataset.columns.drop(list(dataset.filter(regex='SDM')))]"
   ]
  },
  {
   "cell_type": "markdown",
   "metadata": {},
   "source": [
    "Load the data from the file"
   ]
  },
  {
   "cell_type": "code",
   "execution_count": 4,
   "metadata": {},
   "outputs": [
    {
     "data": {
      "text/html": [
       "<div>\n",
       "<style scoped>\n",
       "    .dataframe tbody tr th:only-of-type {\n",
       "        vertical-align: middle;\n",
       "    }\n",
       "\n",
       "    .dataframe tbody tr th {\n",
       "        vertical-align: top;\n",
       "    }\n",
       "\n",
       "    .dataframe thead th {\n",
       "        text-align: right;\n",
       "    }\n",
       "</style>\n",
       "<table border=\"1\" class=\"dataframe\">\n",
       "  <thead>\n",
       "    <tr style=\"text-align: right;\">\n",
       "      <th></th>\n",
       "      <th>Hepatitis B core antibody</th>\n",
       "      <th>Age</th>\n",
       "      <th>Gender</th>\n",
       "    </tr>\n",
       "  </thead>\n",
       "  <tbody>\n",
       "    <tr>\n",
       "      <th>0</th>\n",
       "      <td>0.0</td>\n",
       "      <td>62</td>\n",
       "      <td>1</td>\n",
       "    </tr>\n",
       "    <tr>\n",
       "      <th>1</th>\n",
       "      <td>0.0</td>\n",
       "      <td>6</td>\n",
       "      <td>1</td>\n",
       "    </tr>\n",
       "    <tr>\n",
       "      <th>2</th>\n",
       "      <td>0.0</td>\n",
       "      <td>71</td>\n",
       "      <td>0</td>\n",
       "    </tr>\n",
       "    <tr>\n",
       "      <th>3</th>\n",
       "      <td>NaN</td>\n",
       "      <td>1</td>\n",
       "      <td>1</td>\n",
       "    </tr>\n",
       "    <tr>\n",
       "      <th>4</th>\n",
       "      <td>0.0</td>\n",
       "      <td>52</td>\n",
       "      <td>0</td>\n",
       "    </tr>\n",
       "    <tr>\n",
       "      <th>5</th>\n",
       "      <td>NaN</td>\n",
       "      <td>6</td>\n",
       "      <td>0</td>\n",
       "    </tr>\n",
       "    <tr>\n",
       "      <th>6</th>\n",
       "      <td>NaN</td>\n",
       "      <td>21</td>\n",
       "      <td>0</td>\n",
       "    </tr>\n",
       "    <tr>\n",
       "      <th>7</th>\n",
       "      <td>0.0</td>\n",
       "      <td>64</td>\n",
       "      <td>0</td>\n",
       "    </tr>\n",
       "    <tr>\n",
       "      <th>8</th>\n",
       "      <td>0.0</td>\n",
       "      <td>66</td>\n",
       "      <td>0</td>\n",
       "    </tr>\n",
       "    <tr>\n",
       "      <th>9</th>\n",
       "      <td>NaN</td>\n",
       "      <td>0</td>\n",
       "      <td>0</td>\n",
       "    </tr>\n",
       "    <tr>\n",
       "      <th>10</th>\n",
       "      <td>0.0</td>\n",
       "      <td>30</td>\n",
       "      <td>1</td>\n",
       "    </tr>\n",
       "    <tr>\n",
       "      <th>11</th>\n",
       "      <td>0.0</td>\n",
       "      <td>61</td>\n",
       "      <td>1</td>\n",
       "    </tr>\n",
       "    <tr>\n",
       "      <th>12</th>\n",
       "      <td>1.0</td>\n",
       "      <td>27</td>\n",
       "      <td>0</td>\n",
       "    </tr>\n",
       "    <tr>\n",
       "      <th>13</th>\n",
       "      <td>NaN</td>\n",
       "      <td>5</td>\n",
       "      <td>0</td>\n",
       "    </tr>\n",
       "    <tr>\n",
       "      <th>14</th>\n",
       "      <td>0.0</td>\n",
       "      <td>40</td>\n",
       "      <td>1</td>\n",
       "    </tr>\n",
       "    <tr>\n",
       "      <th>15</th>\n",
       "      <td>0.0</td>\n",
       "      <td>66</td>\n",
       "      <td>1</td>\n",
       "    </tr>\n",
       "    <tr>\n",
       "      <th>16</th>\n",
       "      <td>0.0</td>\n",
       "      <td>11</td>\n",
       "      <td>1</td>\n",
       "    </tr>\n",
       "    <tr>\n",
       "      <th>17</th>\n",
       "      <td>0.0</td>\n",
       "      <td>72</td>\n",
       "      <td>0</td>\n",
       "    </tr>\n",
       "    <tr>\n",
       "      <th>18</th>\n",
       "      <td>0.0</td>\n",
       "      <td>77</td>\n",
       "      <td>1</td>\n",
       "    </tr>\n",
       "    <tr>\n",
       "      <th>19</th>\n",
       "      <td>0.0</td>\n",
       "      <td>40</td>\n",
       "      <td>0</td>\n",
       "    </tr>\n",
       "  </tbody>\n",
       "</table>\n",
       "</div>"
      ],
      "text/plain": [
       "    Hepatitis B core antibody  Age  Gender\n",
       "0                         0.0   62       1\n",
       "1                         0.0    6       1\n",
       "2                         0.0   71       0\n",
       "3                         NaN    1       1\n",
       "4                         0.0   52       0\n",
       "5                         NaN    6       0\n",
       "6                         NaN   21       0\n",
       "7                         0.0   64       0\n",
       "8                         0.0   66       0\n",
       "9                         NaN    0       0\n",
       "10                        0.0   30       1\n",
       "11                        0.0   61       1\n",
       "12                        1.0   27       0\n",
       "13                        NaN    5       0\n",
       "14                        0.0   40       1\n",
       "15                        0.0   66       1\n",
       "16                        0.0   11       1\n",
       "17                        0.0   72       0\n",
       "18                        0.0   77       1\n",
       "19                        0.0   40       0"
      ]
     },
     "execution_count": 4,
     "metadata": {},
     "output_type": "execute_result"
    }
   ],
   "source": [
    "ind_names = {\n",
    "    'RIDAGEYR': 'Age',\n",
    "    'RIAGENDR': 'Gender',\n",
    "}\n",
    "\n",
    "ind_vars = list(ind_names.keys())\n",
    "\n",
    "dep_names = {\n",
    "    'LBXHBC': 'Hepatitis B core antibody',\n",
    "}\n",
    "\n",
    "dep_vars = list(dep_names.keys())\n",
    "\n",
    "all_names = {\n",
    "    **dep_names,\n",
    "    **ind_names,\n",
    "}\n",
    "\n",
    "all_vars = [*dep_vars, *ind_vars]\n",
    "\n",
    "df = dataset.loc[:, list(all_names.keys())]\n",
    "\n",
    "# Supplement missing data\n",
    "def load_missing(code, url):\n",
    "    miss_dat = pd.read_sas(url)\n",
    "    df.loc[:, code] = miss_dat.loc[:, code]\n",
    "\n",
    "# Rename columns and display\n",
    "\n",
    "df = df.rename(columns=all_names)\n",
    "\n",
    "df.loc[:, 'Hepatitis B core antibody'] = 2 - df['Hepatitis B core antibody']\n",
    "df.loc[:, 'Gender'] = df['Gender'] - 1\n",
    "df.head(20)\n",
    "\n",
    "\n",
    "# Write your code here\n",
    "\n",
    "# create a subset of the data you want to analyze\n",
    "\n",
    "# rename the variables"
   ]
  },
  {
   "cell_type": "code",
   "execution_count": 5,
   "metadata": {},
   "outputs": [
    {
     "name": "stdout",
     "output_type": "stream",
     "text": [
      "[62  6 71 52 64 66 30 61 27 40 11 72 77 68 17 14 70 29 18 63 48 33 35 80\n",
      " 74 50 28 51 44 16 43  8  7 37 60 45 49 24 54 15 78 38 46 55 32 57 76 67\n",
      " 25 12 36 20  9 41 26 23 19 13 73 58 21 10 31 42 22 47 53 69 79 34 75 65\n",
      " 59 56 39]\n",
      "[0. 1.]\n"
     ]
    },
    {
     "data": {
      "text/html": [
       "<div>\n",
       "<style scoped>\n",
       "    .dataframe tbody tr th:only-of-type {\n",
       "        vertical-align: middle;\n",
       "    }\n",
       "\n",
       "    .dataframe tbody tr th {\n",
       "        vertical-align: top;\n",
       "    }\n",
       "\n",
       "    .dataframe thead th {\n",
       "        text-align: right;\n",
       "    }\n",
       "</style>\n",
       "<table border=\"1\" class=\"dataframe\">\n",
       "  <thead>\n",
       "    <tr style=\"text-align: right;\">\n",
       "      <th></th>\n",
       "      <th>Hepatitis B core antibody</th>\n",
       "      <th>Age</th>\n",
       "      <th>Gender</th>\n",
       "    </tr>\n",
       "  </thead>\n",
       "  <tbody>\n",
       "    <tr>\n",
       "      <th>0</th>\n",
       "      <td>0.0</td>\n",
       "      <td>62</td>\n",
       "      <td>1</td>\n",
       "    </tr>\n",
       "    <tr>\n",
       "      <th>1</th>\n",
       "      <td>0.0</td>\n",
       "      <td>6</td>\n",
       "      <td>1</td>\n",
       "    </tr>\n",
       "    <tr>\n",
       "      <th>2</th>\n",
       "      <td>0.0</td>\n",
       "      <td>71</td>\n",
       "      <td>0</td>\n",
       "    </tr>\n",
       "    <tr>\n",
       "      <th>4</th>\n",
       "      <td>0.0</td>\n",
       "      <td>52</td>\n",
       "      <td>0</td>\n",
       "    </tr>\n",
       "    <tr>\n",
       "      <th>7</th>\n",
       "      <td>0.0</td>\n",
       "      <td>64</td>\n",
       "      <td>0</td>\n",
       "    </tr>\n",
       "    <tr>\n",
       "      <th>8</th>\n",
       "      <td>0.0</td>\n",
       "      <td>66</td>\n",
       "      <td>0</td>\n",
       "    </tr>\n",
       "    <tr>\n",
       "      <th>10</th>\n",
       "      <td>0.0</td>\n",
       "      <td>30</td>\n",
       "      <td>1</td>\n",
       "    </tr>\n",
       "    <tr>\n",
       "      <th>11</th>\n",
       "      <td>0.0</td>\n",
       "      <td>61</td>\n",
       "      <td>1</td>\n",
       "    </tr>\n",
       "    <tr>\n",
       "      <th>12</th>\n",
       "      <td>1.0</td>\n",
       "      <td>27</td>\n",
       "      <td>0</td>\n",
       "    </tr>\n",
       "    <tr>\n",
       "      <th>14</th>\n",
       "      <td>0.0</td>\n",
       "      <td>40</td>\n",
       "      <td>1</td>\n",
       "    </tr>\n",
       "    <tr>\n",
       "      <th>15</th>\n",
       "      <td>0.0</td>\n",
       "      <td>66</td>\n",
       "      <td>1</td>\n",
       "    </tr>\n",
       "    <tr>\n",
       "      <th>16</th>\n",
       "      <td>0.0</td>\n",
       "      <td>11</td>\n",
       "      <td>1</td>\n",
       "    </tr>\n",
       "    <tr>\n",
       "      <th>17</th>\n",
       "      <td>0.0</td>\n",
       "      <td>72</td>\n",
       "      <td>0</td>\n",
       "    </tr>\n",
       "    <tr>\n",
       "      <th>18</th>\n",
       "      <td>0.0</td>\n",
       "      <td>77</td>\n",
       "      <td>1</td>\n",
       "    </tr>\n",
       "    <tr>\n",
       "      <th>19</th>\n",
       "      <td>0.0</td>\n",
       "      <td>40</td>\n",
       "      <td>0</td>\n",
       "    </tr>\n",
       "    <tr>\n",
       "      <th>20</th>\n",
       "      <td>0.0</td>\n",
       "      <td>61</td>\n",
       "      <td>0</td>\n",
       "    </tr>\n",
       "    <tr>\n",
       "      <th>21</th>\n",
       "      <td>0.0</td>\n",
       "      <td>64</td>\n",
       "      <td>1</td>\n",
       "    </tr>\n",
       "    <tr>\n",
       "      <th>23</th>\n",
       "      <td>0.0</td>\n",
       "      <td>68</td>\n",
       "      <td>0</td>\n",
       "    </tr>\n",
       "    <tr>\n",
       "      <th>24</th>\n",
       "      <td>0.0</td>\n",
       "      <td>17</td>\n",
       "      <td>1</td>\n",
       "    </tr>\n",
       "    <tr>\n",
       "      <th>25</th>\n",
       "      <td>0.0</td>\n",
       "      <td>14</td>\n",
       "      <td>1</td>\n",
       "    </tr>\n",
       "  </tbody>\n",
       "</table>\n",
       "</div>"
      ],
      "text/plain": [
       "    Hepatitis B core antibody  Age  Gender\n",
       "0                         0.0   62       1\n",
       "1                         0.0    6       1\n",
       "2                         0.0   71       0\n",
       "4                         0.0   52       0\n",
       "7                         0.0   64       0\n",
       "8                         0.0   66       0\n",
       "10                        0.0   30       1\n",
       "11                        0.0   61       1\n",
       "12                        1.0   27       0\n",
       "14                        0.0   40       1\n",
       "15                        0.0   66       1\n",
       "16                        0.0   11       1\n",
       "17                        0.0   72       0\n",
       "18                        0.0   77       1\n",
       "19                        0.0   40       0\n",
       "20                        0.0   61       0\n",
       "21                        0.0   64       1\n",
       "23                        0.0   68       0\n",
       "24                        0.0   17       1\n",
       "25                        0.0   14       1"
      ]
     },
     "execution_count": 5,
     "metadata": {},
     "output_type": "execute_result"
    }
   ],
   "source": [
    "for dep in dep_names.values():\n",
    "    df = df[np.isfinite(df[dep])]\n",
    "df.dropna()\n",
    "\n",
    "print(df['Age'].unique())\n",
    "print(df['Hepatitis B core antibody'].unique())\n",
    "\n",
    "df.head(20)"
   ]
  },
  {
   "cell_type": "markdown",
   "metadata": {},
   "source": [
    "Check to see if there are NaNs"
   ]
  },
  {
   "cell_type": "code",
   "execution_count": 6,
   "metadata": {},
   "outputs": [
    {
     "data": {
      "text/plain": [
       "Hepatitis B core antibody    0.0\n",
       "Age                          0.0\n",
       "Gender                       0.0\n",
       "dtype: float64"
      ]
     },
     "execution_count": 6,
     "metadata": {},
     "output_type": "execute_result"
    }
   ],
   "source": [
    "100 * df.isna().sum() / df.shape[0]"
   ]
  },
  {
   "cell_type": "code",
   "execution_count": 7,
   "metadata": {},
   "outputs": [
    {
     "data": {
      "text/html": [
       "<div>\n",
       "<style scoped>\n",
       "    .dataframe tbody tr th:only-of-type {\n",
       "        vertical-align: middle;\n",
       "    }\n",
       "\n",
       "    .dataframe tbody tr th {\n",
       "        vertical-align: top;\n",
       "    }\n",
       "\n",
       "    .dataframe thead th {\n",
       "        text-align: right;\n",
       "    }\n",
       "</style>\n",
       "<table border=\"1\" class=\"dataframe\">\n",
       "  <thead>\n",
       "    <tr style=\"text-align: right;\">\n",
       "      <th></th>\n",
       "      <th>Hepatitis B core antibody</th>\n",
       "      <th>Age</th>\n",
       "      <th>Gender</th>\n",
       "    </tr>\n",
       "  </thead>\n",
       "  <tbody>\n",
       "    <tr>\n",
       "      <th>count</th>\n",
       "      <td>7410.000000</td>\n",
       "      <td>7410.000000</td>\n",
       "      <td>7410.000000</td>\n",
       "    </tr>\n",
       "    <tr>\n",
       "      <th>mean</th>\n",
       "      <td>0.047503</td>\n",
       "      <td>39.942780</td>\n",
       "      <td>0.501889</td>\n",
       "    </tr>\n",
       "    <tr>\n",
       "      <th>std</th>\n",
       "      <td>0.212727</td>\n",
       "      <td>23.012311</td>\n",
       "      <td>0.500030</td>\n",
       "    </tr>\n",
       "    <tr>\n",
       "      <th>min</th>\n",
       "      <td>0.000000</td>\n",
       "      <td>6.000000</td>\n",
       "      <td>0.000000</td>\n",
       "    </tr>\n",
       "    <tr>\n",
       "      <th>25%</th>\n",
       "      <td>0.000000</td>\n",
       "      <td>18.000000</td>\n",
       "      <td>0.000000</td>\n",
       "    </tr>\n",
       "    <tr>\n",
       "      <th>50%</th>\n",
       "      <td>0.000000</td>\n",
       "      <td>39.000000</td>\n",
       "      <td>1.000000</td>\n",
       "    </tr>\n",
       "    <tr>\n",
       "      <th>75%</th>\n",
       "      <td>0.000000</td>\n",
       "      <td>60.000000</td>\n",
       "      <td>1.000000</td>\n",
       "    </tr>\n",
       "    <tr>\n",
       "      <th>max</th>\n",
       "      <td>1.000000</td>\n",
       "      <td>80.000000</td>\n",
       "      <td>1.000000</td>\n",
       "    </tr>\n",
       "  </tbody>\n",
       "</table>\n",
       "</div>"
      ],
      "text/plain": [
       "       Hepatitis B core antibody          Age       Gender\n",
       "count                7410.000000  7410.000000  7410.000000\n",
       "mean                    0.047503    39.942780     0.501889\n",
       "std                     0.212727    23.012311     0.500030\n",
       "min                     0.000000     6.000000     0.000000\n",
       "25%                     0.000000    18.000000     0.000000\n",
       "50%                     0.000000    39.000000     1.000000\n",
       "75%                     0.000000    60.000000     1.000000\n",
       "max                     1.000000    80.000000     1.000000"
      ]
     },
     "execution_count": 7,
     "metadata": {},
     "output_type": "execute_result"
    }
   ],
   "source": [
    "df.describe()"
   ]
  },
  {
   "cell_type": "markdown",
   "metadata": {},
   "source": [
    "# Cleaning the Data"
   ]
  },
  {
   "cell_type": "code",
   "execution_count": 8,
   "metadata": {},
   "outputs": [],
   "source": [
    "for element in df.columns.values:\n",
    "    df = df[df[element] == df[element]]\n",
    "df = df.dropna()\n"
   ]
  },
  {
   "cell_type": "markdown",
   "metadata": {},
   "source": [
    "Optional step: Sorting ages into bins"
   ]
  },
  {
   "cell_type": "code",
   "execution_count": 9,
   "metadata": {},
   "outputs": [
    {
     "data": {
      "text/html": [
       "<div>\n",
       "<style scoped>\n",
       "    .dataframe tbody tr th:only-of-type {\n",
       "        vertical-align: middle;\n",
       "    }\n",
       "\n",
       "    .dataframe tbody tr th {\n",
       "        vertical-align: top;\n",
       "    }\n",
       "\n",
       "    .dataframe thead th {\n",
       "        text-align: right;\n",
       "    }\n",
       "</style>\n",
       "<table border=\"1\" class=\"dataframe\">\n",
       "  <thead>\n",
       "    <tr style=\"text-align: right;\">\n",
       "      <th></th>\n",
       "      <th>Hepatitis B core antibody</th>\n",
       "      <th>Age</th>\n",
       "      <th>Gender</th>\n",
       "    </tr>\n",
       "  </thead>\n",
       "  <tbody>\n",
       "    <tr>\n",
       "      <th>0</th>\n",
       "      <td>0.0</td>\n",
       "      <td>6</td>\n",
       "      <td>1</td>\n",
       "    </tr>\n",
       "    <tr>\n",
       "      <th>1</th>\n",
       "      <td>0.0</td>\n",
       "      <td>1</td>\n",
       "      <td>1</td>\n",
       "    </tr>\n",
       "    <tr>\n",
       "      <th>2</th>\n",
       "      <td>0.0</td>\n",
       "      <td>6</td>\n",
       "      <td>0</td>\n",
       "    </tr>\n",
       "    <tr>\n",
       "      <th>4</th>\n",
       "      <td>0.0</td>\n",
       "      <td>5</td>\n",
       "      <td>0</td>\n",
       "    </tr>\n",
       "    <tr>\n",
       "      <th>7</th>\n",
       "      <td>0.0</td>\n",
       "      <td>6</td>\n",
       "      <td>0</td>\n",
       "    </tr>\n",
       "    <tr>\n",
       "      <th>8</th>\n",
       "      <td>0.0</td>\n",
       "      <td>6</td>\n",
       "      <td>0</td>\n",
       "    </tr>\n",
       "    <tr>\n",
       "      <th>10</th>\n",
       "      <td>0.0</td>\n",
       "      <td>3</td>\n",
       "      <td>1</td>\n",
       "    </tr>\n",
       "    <tr>\n",
       "      <th>11</th>\n",
       "      <td>0.0</td>\n",
       "      <td>6</td>\n",
       "      <td>1</td>\n",
       "    </tr>\n",
       "    <tr>\n",
       "      <th>12</th>\n",
       "      <td>1.0</td>\n",
       "      <td>3</td>\n",
       "      <td>0</td>\n",
       "    </tr>\n",
       "    <tr>\n",
       "      <th>14</th>\n",
       "      <td>0.0</td>\n",
       "      <td>4</td>\n",
       "      <td>1</td>\n",
       "    </tr>\n",
       "    <tr>\n",
       "      <th>15</th>\n",
       "      <td>0.0</td>\n",
       "      <td>6</td>\n",
       "      <td>1</td>\n",
       "    </tr>\n",
       "    <tr>\n",
       "      <th>16</th>\n",
       "      <td>0.0</td>\n",
       "      <td>1</td>\n",
       "      <td>1</td>\n",
       "    </tr>\n",
       "    <tr>\n",
       "      <th>17</th>\n",
       "      <td>0.0</td>\n",
       "      <td>6</td>\n",
       "      <td>0</td>\n",
       "    </tr>\n",
       "    <tr>\n",
       "      <th>18</th>\n",
       "      <td>0.0</td>\n",
       "      <td>6</td>\n",
       "      <td>1</td>\n",
       "    </tr>\n",
       "    <tr>\n",
       "      <th>19</th>\n",
       "      <td>0.0</td>\n",
       "      <td>4</td>\n",
       "      <td>0</td>\n",
       "    </tr>\n",
       "    <tr>\n",
       "      <th>20</th>\n",
       "      <td>0.0</td>\n",
       "      <td>6</td>\n",
       "      <td>0</td>\n",
       "    </tr>\n",
       "    <tr>\n",
       "      <th>21</th>\n",
       "      <td>0.0</td>\n",
       "      <td>6</td>\n",
       "      <td>1</td>\n",
       "    </tr>\n",
       "    <tr>\n",
       "      <th>23</th>\n",
       "      <td>0.0</td>\n",
       "      <td>6</td>\n",
       "      <td>0</td>\n",
       "    </tr>\n",
       "    <tr>\n",
       "      <th>24</th>\n",
       "      <td>0.0</td>\n",
       "      <td>2</td>\n",
       "      <td>1</td>\n",
       "    </tr>\n",
       "    <tr>\n",
       "      <th>25</th>\n",
       "      <td>0.0</td>\n",
       "      <td>2</td>\n",
       "      <td>1</td>\n",
       "    </tr>\n",
       "  </tbody>\n",
       "</table>\n",
       "</div>"
      ],
      "text/plain": [
       "    Hepatitis B core antibody Age  Gender\n",
       "0                         0.0   6       1\n",
       "1                         0.0   1       1\n",
       "2                         0.0   6       0\n",
       "4                         0.0   5       0\n",
       "7                         0.0   6       0\n",
       "8                         0.0   6       0\n",
       "10                        0.0   3       1\n",
       "11                        0.0   6       1\n",
       "12                        1.0   3       0\n",
       "14                        0.0   4       1\n",
       "15                        0.0   6       1\n",
       "16                        0.0   1       1\n",
       "17                        0.0   6       0\n",
       "18                        0.0   6       1\n",
       "19                        0.0   4       0\n",
       "20                        0.0   6       0\n",
       "21                        0.0   6       1\n",
       "23                        0.0   6       0\n",
       "24                        0.0   2       1\n",
       "25                        0.0   2       1"
      ]
     },
     "execution_count": 9,
     "metadata": {},
     "output_type": "execute_result"
    }
   ],
   "source": [
    "\n",
    "\n",
    "conv_df = df.copy()\n",
    "\n",
    "bins = [0, 5, 13, 18, 30, 40, 60, 80, 150]\n",
    "\n",
    "\n",
    "ages = list()\n",
    "for min, max in zip(bins[:-1], bins[1:]):\n",
    "    ages.append(f'{min}-{max}')\n",
    "\n",
    "def age_str(age):\n",
    "    if (age == np.nan or math.isnan(age)):\n",
    "        age_str = 'NaN'\n",
    "    else:\n",
    "        age_str = ages[int(age)]\n",
    "    return age_str\n",
    "    \n",
    "\n",
    "conv_df.loc[:, 'Age'] = pd.cut(df['Age'], bins,\n",
    "                                     labels=list(range(len(bins) - 1)))\n",
    "\n",
    "conv_df.head(20)\n",
    "\n",
    "\n"
   ]
  },
  {
   "cell_type": "code",
   "execution_count": 30,
   "metadata": {},
   "outputs": [
    {
     "data": {
      "text/html": [
       "<div>\n",
       "<style scoped>\n",
       "    .dataframe tbody tr th:only-of-type {\n",
       "        vertical-align: middle;\n",
       "    }\n",
       "\n",
       "    .dataframe tbody tr th {\n",
       "        vertical-align: top;\n",
       "    }\n",
       "\n",
       "    .dataframe thead th {\n",
       "        text-align: right;\n",
       "    }\n",
       "</style>\n",
       "<table border=\"1\" class=\"dataframe\">\n",
       "  <thead>\n",
       "    <tr style=\"text-align: right;\">\n",
       "      <th></th>\n",
       "      <th>Hepatitis B core antibody</th>\n",
       "      <th>Age</th>\n",
       "      <th>Gender</th>\n",
       "    </tr>\n",
       "  </thead>\n",
       "  <tbody>\n",
       "    <tr>\n",
       "      <th>count</th>\n",
       "      <td>704.000000</td>\n",
       "      <td>704.000000</td>\n",
       "      <td>704.000000</td>\n",
       "    </tr>\n",
       "    <tr>\n",
       "      <th>mean</th>\n",
       "      <td>0.500000</td>\n",
       "      <td>47.501420</td>\n",
       "      <td>0.475852</td>\n",
       "    </tr>\n",
       "    <tr>\n",
       "      <th>std</th>\n",
       "      <td>0.500355</td>\n",
       "      <td>21.641788</td>\n",
       "      <td>0.499772</td>\n",
       "    </tr>\n",
       "    <tr>\n",
       "      <th>min</th>\n",
       "      <td>0.000000</td>\n",
       "      <td>6.000000</td>\n",
       "      <td>0.000000</td>\n",
       "    </tr>\n",
       "    <tr>\n",
       "      <th>25%</th>\n",
       "      <td>0.000000</td>\n",
       "      <td>31.750000</td>\n",
       "      <td>0.000000</td>\n",
       "    </tr>\n",
       "    <tr>\n",
       "      <th>50%</th>\n",
       "      <td>0.500000</td>\n",
       "      <td>50.500000</td>\n",
       "      <td>0.000000</td>\n",
       "    </tr>\n",
       "    <tr>\n",
       "      <th>75%</th>\n",
       "      <td>1.000000</td>\n",
       "      <td>64.000000</td>\n",
       "      <td>1.000000</td>\n",
       "    </tr>\n",
       "    <tr>\n",
       "      <th>max</th>\n",
       "      <td>1.000000</td>\n",
       "      <td>80.000000</td>\n",
       "      <td>1.000000</td>\n",
       "    </tr>\n",
       "  </tbody>\n",
       "</table>\n",
       "</div>"
      ],
      "text/plain": [
       "       Hepatitis B core antibody         Age      Gender\n",
       "count                 704.000000  704.000000  704.000000\n",
       "mean                    0.500000   47.501420    0.475852\n",
       "std                     0.500355   21.641788    0.499772\n",
       "min                     0.000000    6.000000    0.000000\n",
       "25%                     0.000000   31.750000    0.000000\n",
       "50%                     0.500000   50.500000    0.000000\n",
       "75%                     1.000000   64.000000    1.000000\n",
       "max                     1.000000   80.000000    1.000000"
      ]
     },
     "execution_count": 30,
     "metadata": {},
     "output_type": "execute_result"
    }
   ],
   "source": [
    "\n",
    "num_inf = df['Hepatitis B core antibody'].sum()\n",
    "df[df['Hepatitis B core antibody'] == 0] = df[df['Hepatitis B core antibody'] == 0][:int(num_inf)]\n",
    "\n",
    "for element in df.columns.values:\n",
    "    df = df[df[element] == df[element]]\n",
    "df = df.dropna()\n",
    "\n",
    "df.describe()\n"
   ]
  },
  {
   "cell_type": "markdown",
   "metadata": {},
   "source": [
    "# Analysis"
   ]
  },
  {
   "cell_type": "markdown",
   "metadata": {},
   "source": [
    "## Univariate Analysis"
   ]
  },
  {
   "cell_type": "code",
   "execution_count": 31,
   "metadata": {},
   "outputs": [
    {
     "data": {
      "image/png": "[encoded data removed]",
      "text/plain": [
       "<Figure size 432x288 with 1 Axes>"
      ]
     },
     "metadata": {
      "needs_background": "light"
     },
     "output_type": "display_data"
    },
    {
     "data": {
      "image/png": "[encoded data removed]",
      "text/plain": [
       "<Figure size 432x288 with 1 Axes>"
      ]
     },
     "metadata": {
      "needs_background": "light"
     },
     "output_type": "display_data"
    },
    {
     "data": {
      "image/png": "[encoded data removed]",
      "text/plain": [
       "<Figure size 432x288 with 1 Axes>"
      ]
     },
     "metadata": {
      "needs_background": "light"
     },
     "output_type": "display_data"
    }
   ],
   "source": [
    "for element in ('Age', 'Gender', 'Hepatitis B core antibody'):\n",
    "    fig = plt.figure()\n",
    "    ax = plt.axes(label=element)\n",
    "    ax.set_title(f'Count of {element}')\n",
    "    ax.set_xlabel(element)\n",
    "    ax.set_ylabel('Count')\n",
    "    ax.hist(df[element])"
   ]
  },
  {
   "cell_type": "markdown",
   "metadata": {},
   "source": [
    "## Bivariate Analysis"
   ]
  },
  {
   "cell_type": "markdown",
   "metadata": {},
   "source": [
    "### Make Graphs"
   ]
  },
  {
   "cell_type": "code",
   "execution_count": 32,
   "metadata": {},
   "outputs": [
    {
     "data": {
      "text/plain": [
       "[<matplotlib.lines.Line2D at 0x1e9e8387da0>]"
      ]
     },
     "execution_count": 32,
     "metadata": {},
     "output_type": "execute_result"
    },
    {
     "data": {
      "image/png": "[encoded data removed]",
      "text/plain": [
       "<Figure size 432x288 with 1 Axes>"
      ]
     },
     "metadata": {
      "needs_background": "light"
     },
     "output_type": "display_data"
    }
   ],
   "source": [
    "fig, ax = plt.subplots()\n",
    "\n",
    "ax.set_title('Hepatitis B vs Age')\n",
    "ax.set_xlabel('Age (years)')\n",
    "ax.set_ylabel('Frequency of Hepatitis B antibody')\n",
    "\n",
    "means = dict()\n",
    "uniques = sorted(df['Age'].unique())\n",
    "for age in uniques:\n",
    "    means[age] = df[df['Age'] == age]['Hepatitis B core antibody'].mean()\n",
    "\n",
    "ax.plot(list(means.keys()), means.values())"
   ]
  },
  {
   "cell_type": "code",
   "execution_count": 33,
   "metadata": {},
   "outputs": [
    {
     "data": {
      "text/plain": [
       "<BarContainer object of 6 artists>"
      ]
     },
     "execution_count": 33,
     "metadata": {},
     "output_type": "execute_result"
    },
    {
     "data": {
      "image/png": "[encoded data removed]",
      "text/plain": [
       "<Figure size 432x288 with 1 Axes>"
      ]
     },
     "metadata": {
      "needs_background": "light"
     },
     "output_type": "display_data"
    }
   ],
   "source": [
    "fig, ax = plt.subplots()\n",
    "\n",
    "ax.set_title('Hepatitis B vs Age')\n",
    "ax.set_xlabel('Age (years)')\n",
    "ax.set_ylabel('Frequency of Hepatitis B antibody')\n",
    "\n",
    "means = dict()\n",
    "uniques = sorted(conv_df['Age'].unique())\n",
    "for age in uniques:\n",
    "    means[age_str(age)] = conv_df[conv_df['Age'] == age]['Hepatitis B core antibody'].mean()\n",
    "\n",
    "ax.bar(list(means.keys()), means.values())"
   ]
  },
  {
   "cell_type": "markdown",
   "metadata": {},
   "source": [
    "Males"
   ]
  },
  {
   "cell_type": "code",
   "execution_count": 34,
   "metadata": {},
   "outputs": [
    {
     "data": {
      "text/plain": [
       "<BarContainer object of 6 artists>"
      ]
     },
     "execution_count": 34,
     "metadata": {},
     "output_type": "execute_result"
    },
    {
     "data": {
      "image/png": "[encoded data removed]",
      "text/plain": [
       "<Figure size 432x288 with 1 Axes>"
      ]
     },
     "metadata": {
      "needs_background": "light"
     },
     "output_type": "display_data"
    }
   ],
   "source": [
    "fig, ax = plt.subplots()\n",
    "\n",
    "ax.set_title('Hepatitis B vs Age (Males)')\n",
    "ax.set_xlabel('Age (years)')\n",
    "ax.set_ylabel('Frequency of Hepatitis B antibody')\n",
    "\n",
    "means = dict()\n",
    "uniques = sorted(conv_df[conv_df['Gender'] == 0]['Age'].unique())\n",
    "for age in uniques:\n",
    "    means[age_str(age)] = conv_df[(conv_df['Gender'] == 0) & (conv_df['Age'] == age)]['Hepatitis B core antibody'].mean()\n",
    "\n",
    "ax.bar(list(means.keys()), means.values())"
   ]
  },
  {
   "cell_type": "markdown",
   "metadata": {},
   "source": [
    "Females"
   ]
  },
  {
   "cell_type": "code",
   "execution_count": 35,
   "metadata": {},
   "outputs": [
    {
     "data": {
      "text/plain": [
       "<BarContainer object of 6 artists>"
      ]
     },
     "execution_count": 35,
     "metadata": {},
     "output_type": "execute_result"
    },
    {
     "data": {
      "image/png": "[encoded data removed]",
      "text/plain": [
       "<Figure size 432x288 with 1 Axes>"
      ]
     },
     "metadata": {
      "needs_background": "light"
     },
     "output_type": "display_data"
    }
   ],
   "source": [
    "fig, ax = plt.subplots()\n",
    "\n",
    "ax.set_title('Hepatitis B vs Age (Females)')\n",
    "ax.set_xlabel('Age (years)')\n",
    "ax.set_ylabel('Frequency of Hepatitis B antibody')\n",
    "\n",
    "means = dict()\n",
    "uniques = sorted(conv_df[conv_df['Gender'] == 1]['Age'].unique())\n",
    "for age in uniques:\n",
    "    means[age_str(age)] = conv_df[(conv_df['Gender'] == 1) & (conv_df['Age'] == age)]['Hepatitis B core antibody'].mean()\n",
    "\n",
    "ax.bar(list(means.keys()), means.values())"
   ]
  },
  {
   "cell_type": "code",
   "execution_count": 36,
   "metadata": {},
   "outputs": [
    {
     "data": {
      "text/plain": [
       "<BarContainer object of 2 artists>"
      ]
     },
     "execution_count": 36,
     "metadata": {},
     "output_type": "execute_result"
    },
    {
     "data": {
      "image/png": "[encoded data removed]",
      "text/plain": [
       "<Figure size 432x288 with 1 Axes>"
      ]
     },
     "metadata": {
      "needs_background": "light"
     },
     "output_type": "display_data"
    }
   ],
   "source": [
    "fig, ax = plt.subplots()\n",
    "\n",
    "ax.set_title('Hepatitis B vs Gender')\n",
    "ax.set_xlabel('Gender')\n",
    "ax.set_ylabel('Frequency of Hepatitis B antibody')\n",
    "\n",
    "ax.bar(['Male', 'Female'], [\n",
    "    conv_df[conv_df['Gender'] == 0]['Hepatitis B core antibody'].mean(),\n",
    "    conv_df[conv_df['Gender'] == 1]['Hepatitis B core antibody'].mean(),\n",
    "])"
   ]
  },
  {
   "cell_type": "markdown",
   "metadata": {},
   "source": [
    "## Testing for Relationships"
   ]
  },
  {
   "cell_type": "code",
   "execution_count": 37,
   "metadata": {},
   "outputs": [
    {
     "name": "stdout",
     "output_type": "stream",
     "text": [
      "F_onewayResult(statistic=3318.763153348217, pvalue=0.0)\n",
      "F_onewayResult(statistic=0.8208137557116806, pvalue=0.3650975793556729)\n",
      "F_onewayResult(statistic=3318.700239195374, pvalue=0.0)\n"
     ]
    }
   ],
   "source": [
    "print(stats.f_oneway(df['Age'], df['Hepatitis B core antibody']))\n",
    "print(stats.f_oneway(df['Gender'], df['Hepatitis B core antibody']))\n",
    "print(stats.f_oneway(df['Age'], df['Gender'], df['Hepatitis B core antibody']))"
   ]
  },
  {
   "cell_type": "code",
   "execution_count": 38,
   "metadata": {},
   "outputs": [
    {
     "data": {
      "text/plain": [
       "<matplotlib.axes._subplots.AxesSubplot at 0x1e9fd7274a8>"
      ]
     },
     "execution_count": 38,
     "metadata": {},
     "output_type": "execute_result"
    },
    {
     "data": {
      "image/png": "[encoded data removed]",
      "text/plain": [
       "<Figure size 432x288 with 2 Axes>"
      ]
     },
     "metadata": {
      "needs_background": "light"
     },
     "output_type": "display_data"
    }
   ],
   "source": [
    "sns.heatmap(df.corr().loc['Age':'Gender', 'Hepatitis B core antibody':'Hepatitis B core antibody'], annot=True)"
   ]
  },
  {
   "cell_type": "markdown",
   "metadata": {},
   "source": [
    "# Making the model"
   ]
  },
  {
   "cell_type": "code",
   "execution_count": 39,
   "metadata": {},
   "outputs": [],
   "source": [
    "def create_model(ind_data, dep_data):\n",
    "    x_train, x_test, y_train, y_test = sklearn.model_selection.train_test_split(\n",
    "    np.array(ind_data).reshape(-1, 1),\n",
    "    np.array(dep_data).reshape(-1, 1),\n",
    "    random_state=0)\n",
    "    \n",
    "    imputer = SimpleImputer(strategy='median')\n",
    "    x_train = imputer.fit_transform(x_train.reshape(-1, 1))\n",
    "    x_test = imputer.fit_transform(x_test.reshape(-1, 1))\n",
    "    \n",
    "    x_train = x_train[x_train == x_train].reshape(-1, 1)\n",
    "    x_test = x_test[x_test == x_test].reshape(-1, 1)\n",
    "    \n",
    "    model = sklearn.linear_model.LogisticRegression(solver='lbfgs')\n",
    "    model.fit(x_train, y_train.ravel())\n",
    "    \n",
    "    return model, x_train, x_test, y_train, y_test"
   ]
  },
  {
   "cell_type": "code",
   "execution_count": 40,
   "metadata": {},
   "outputs": [],
   "source": [
    "def plot_with_line(ind_var, dep_var, model):\n",
    "    uniques = sorted(ind_var.unique())\n",
    "\n",
    "    means = list()\n",
    "    df = pd.DataFrame(np.array([ind_var, dep_var]).transpose())\n",
    "    print(df.head())\n",
    "    for unique in uniques:\n",
    "        means.append(df[df[0] == unique][1].mean())\n",
    "    \n",
    "    fig, ax = plt.subplots()\n",
    "    \n",
    "    ax.set_xlabel(ind_var.name)\n",
    "    ax.set_ylabel(dep_var.name)\n",
    "    \n",
    "    ax.scatter(ind_var, dep_var)\n",
    "    ax.plot(uniques, means)\n",
    "    xs = np.linspace(ind_var.min(), ind_var.max())\n",
    "    ys = model.predict_proba(xs.reshape(-1, 1))[:,1]\n",
    "    preds = model.predict(xs.reshape(-1, 1))\n",
    "    ax.plot(xs, ys, color='red')\n",
    "    ax.plot(xs, preds)"
   ]
  },
  {
   "cell_type": "code",
   "execution_count": 41,
   "metadata": {},
   "outputs": [],
   "source": [
    "def test_confusion(model, x_test, y_test):\n",
    "    predict = model.predict(x_test)\n",
    "    \n",
    "    confusions = confusion_matrix(y_test, predict)\n",
    "\n",
    "    print(confusions)\n",
    "    tpr = confusions[1, 1] / (confusions[1, 0] + confusions[1, 1])\n",
    "    print(f'TPR: {tpr}')\n",
    "    ppv = confusions[1, 1] / (confusions[1, 1] + confusions[0, 1])\n",
    "    print(f'PPV: {ppv}')\n",
    "    tnr = confusions[0, 0] / (confusions[0, 0] + confusions[0, 1])\n",
    "    print(f'TNR: {tnr}')\n",
    "    fnr = confusions[1, 0] / (confusions[1, 0] + confusions[1, 1])\n",
    "    print(f'FNR: {fnr}')\n",
    "    fpr = confusions[0, 1] / (confusions[0, 0] + confusions[0, 1])\n",
    "    print(f'FPR: {fpr}')\n",
    "    acc = (confusions[0, 0] + confusions[1, 1]) / (np.sum(confusions[:2, :2]))\n",
    "    print(f'ACC: {acc}')\n",
    "    odds = (confusions[0, 0] * confusions[1, 1]) / (confusions[0, 1] * confusions[1, 0])\n",
    "    print(f'ODDS: {odds}')"
   ]
  },
  {
   "cell_type": "code",
   "execution_count": 42,
   "metadata": {},
   "outputs": [],
   "source": [
    "def draw_roc(model, x_test, y_test):\n",
    "    fig, ax = plt.subplots()\n",
    "    y_pred = model.predict_proba(x_test)[:,1]\n",
    "\n",
    "    fpr, tpr, thresholds = metrics.roc_curve(y_test, y_pred)\n",
    "    ax.set_xlabel('False Positive Rate')\n",
    "    ax.set_ylabel('True Positive Rate')\n",
    "    ax.plot(fpr, tpr)\n",
    "    \n",
    "    auc = metrics.roc_auc_score(y_test, y_pred)\n",
    "    return auc"
   ]
  },
  {
   "cell_type": "code",
   "execution_count": 43,
   "metadata": {},
   "outputs": [],
   "source": [
    "def run_all(ind_data, dep_data):\n",
    "    model, x_train, x_test, y_train, y_test = create_model(ind_data, dep_data)\n",
    "    print(f'Train score: {model.score(x_train, y_train)}')\n",
    "    print(f'Test score: {model.score(x_test, y_test)}')\n",
    "    test_confusion(model, x_test, y_test)\n",
    "    print(f'AOC: {draw_roc(model, x_test, y_test)}')\n",
    "    plot_with_line(conv_df['Age'], conv_df['Hepatitis B core antibody'], model)"
   ]
  },
  {
   "cell_type": "markdown",
   "metadata": {},
   "source": [
    "## Testing Age\n",
    "\n",
    "First, we test age without bins"
   ]
  },
  {
   "cell_type": "code",
   "execution_count": 44,
   "metadata": {},
   "outputs": [
    {
     "name": "stdout",
     "output_type": "stream",
     "text": [
      "Train score: 0.6609848484848485\n",
      "Test score: 0.6420454545454546\n",
      "[[55 36]\n",
      " [27 58]]\n",
      "TPR: 0.6823529411764706\n",
      "PPV: 0.6170212765957447\n",
      "TNR: 0.6043956043956044\n",
      "FNR: 0.3176470588235294\n",
      "FPR: 0.3956043956043956\n",
      "ACC: 0.6420454545454546\n",
      "ODDS: 3.2818930041152266\n",
      "AOC: 0.6844214608920491\n",
      "     0    1\n",
      "0  6.0  0.0\n",
      "1  1.0  0.0\n",
      "2  6.0  0.0\n",
      "3  5.0  0.0\n",
      "4  6.0  0.0\n"
     ]
    },
    {
     "data": {
      "image/png": "[encoded data removed]",
      "text/plain": [
       "<Figure size 432x288 with 1 Axes>"
      ]
     },
     "metadata": {
      "needs_background": "light"
     },
     "output_type": "display_data"
    },
    {
     "data": {
      "image/png": "[encoded data removed]",
      "text/plain": [
       "<Figure size 432x288 with 1 Axes>"
      ]
     },
     "metadata": {
      "needs_background": "light"
     },
     "output_type": "display_data"
    }
   ],
   "source": [
    "run_all(df['Age'], df['Hepatitis B core antibody'])"
   ]
  },
  {
   "cell_type": "markdown",
   "metadata": {},
   "source": [
    "Next, test age with the bins"
   ]
  },
  {
   "cell_type": "code",
   "execution_count": 45,
   "metadata": {},
   "outputs": [
    {
     "name": "stdout",
     "output_type": "stream",
     "text": [
      "Train score: 0.9508727730789994\n",
      "Test score: 0.9573664328116568\n",
      "[[1774    0]\n",
      " [  79    0]]\n",
      "TPR: 0.0\n",
      "PPV: nan\n",
      "TNR: 1.0\n",
      "FNR: 1.0\n",
      "FPR: 0.0\n",
      "ACC: 0.9573664328116568\n",
      "ODDS: nan\n",
      "AOC: 0.6858668816805331\n",
      "     0    1\n",
      "0  6.0  0.0\n",
      "1  1.0  0.0\n",
      "2  6.0  0.0\n",
      "3  5.0  0.0\n",
      "4  6.0  0.0\n"
     ]
    },
    {
     "name": "stderr",
     "output_type": "stream",
     "text": [
      "C:\\Users\\admin\\Anaconda3\\lib\\site-packages\\ipykernel_launcher.py:9: RuntimeWarning: invalid value encountered in longlong_scalars\n",
      "  if __name__ == '__main__':\n",
      "C:\\Users\\admin\\Anaconda3\\lib\\site-packages\\ipykernel_launcher.py:19: RuntimeWarning: invalid value encountered in longlong_scalars\n"
     ]
    },
    {
     "data": {
      "image/png": "[encoded data removed]",
      "text/plain": [
       "<Figure size 432x288 with 1 Axes>"
      ]
     },
     "metadata": {
      "needs_background": "light"
     },
     "output_type": "display_data"
    },
    {
     "data": {
      "image/png": "[encoded data removed]",
      "text/plain": [
       "<Figure size 432x288 with 1 Axes>"
      ]
     },
     "metadata": {
      "needs_background": "light"
     },
     "output_type": "display_data"
    }
   ],
   "source": [
    "run_all(conv_df['Age'], conv_df['Hepatitis B core antibody'])"
   ]
  },
  {
   "cell_type": "markdown",
   "metadata": {},
   "source": [
    "### Stratifying Gender\n",
    "\n",
    "#### Create and evaluate a model for males by age"
   ]
  },
  {
   "cell_type": "code",
   "execution_count": 46,
   "metadata": {},
   "outputs": [
    {
     "name": "stdout",
     "output_type": "stream",
     "text": [
      "Train score: 0.6992753623188406\n",
      "Test score: 0.7096774193548387\n",
      "[[32 15]\n",
      " [12 34]]\n",
      "TPR: 0.7391304347826086\n",
      "PPV: 0.6938775510204082\n",
      "TNR: 0.6808510638297872\n",
      "FNR: 0.2608695652173913\n",
      "FPR: 0.3191489361702128\n",
      "ACC: 0.7096774193548387\n",
      "ODDS: 6.044444444444444\n",
      "AOC: 0.7402867715078632\n",
      "     0    1\n",
      "0  6.0  0.0\n",
      "1  1.0  0.0\n",
      "2  6.0  0.0\n",
      "3  5.0  0.0\n",
      "4  6.0  0.0\n"
     ]
    },
    {
     "data": {
      "image/png": "[encoded data removed]",
      "text/plain": [
       "<Figure size 432x288 with 1 Axes>"
      ]
     },
     "metadata": {
      "needs_background": "light"
     },
     "output_type": "display_data"
    },
    {
     "data": {
      "image/png": "[encoded data removed]",
      "text/plain": [
       "<Figure size 432x288 with 1 Axes>"
      ]
     },
     "metadata": {
      "needs_background": "light"
     },
     "output_type": "display_data"
    }
   ],
   "source": [
    "run_all(\n",
    "    df[df['Gender'] == 0]['Age'],\n",
    "    df[df['Gender'] == 0]['Hepatitis B core antibody']\n",
    ")"
   ]
  },
  {
   "cell_type": "markdown",
   "metadata": {},
   "source": [
    "##### With bins"
   ]
  },
  {
   "cell_type": "code",
   "execution_count": 47,
   "metadata": {},
   "outputs": [
    {
     "name": "stdout",
     "output_type": "stream",
     "text": [
      "Train score: 0.9497832369942196\n",
      "Test score: 0.9436619718309859\n",
      "[[871   0]\n",
      " [ 52   0]]\n",
      "TPR: 0.0\n",
      "PPV: nan\n",
      "TNR: 1.0\n",
      "FNR: 1.0\n",
      "FPR: 0.0\n",
      "ACC: 0.9436619718309859\n",
      "ODDS: nan\n",
      "AOC: 0.703821866996379\n",
      "     0    1\n",
      "0  6.0  0.0\n",
      "1  1.0  0.0\n",
      "2  6.0  0.0\n",
      "3  5.0  0.0\n",
      "4  6.0  0.0\n"
     ]
    },
    {
     "name": "stderr",
     "output_type": "stream",
     "text": [
      "C:\\Users\\admin\\Anaconda3\\lib\\site-packages\\ipykernel_launcher.py:9: RuntimeWarning: invalid value encountered in longlong_scalars\n",
      "  if __name__ == '__main__':\n",
      "C:\\Users\\admin\\Anaconda3\\lib\\site-packages\\ipykernel_launcher.py:19: RuntimeWarning: invalid value encountered in longlong_scalars\n"
     ]
    },
    {
     "data": {
      "image/png": "[encoded data removed]",
      "text/plain": [
       "<Figure size 432x288 with 1 Axes>"
      ]
     },
     "metadata": {
      "needs_background": "light"
     },
     "output_type": "display_data"
    },
    {
     "data": {
      "image/png": "[encoded data removed]",
      "text/plain": [
       "<Figure size 432x288 with 1 Axes>"
      ]
     },
     "metadata": {
      "needs_background": "light"
     },
     "output_type": "display_data"
    }
   ],
   "source": [
    "run_all(\n",
    "    conv_df[conv_df['Gender'] == 0]['Age'],\n",
    "    conv_df[conv_df['Gender'] == 0]['Hepatitis B core antibody']\n",
    ")\n"
   ]
  },
  {
   "cell_type": "markdown",
   "metadata": {},
   "source": [
    "#### Create and evaluate a model for females by age"
   ]
  },
  {
   "cell_type": "code",
   "execution_count": 48,
   "metadata": {},
   "outputs": [
    {
     "name": "stdout",
     "output_type": "stream",
     "text": [
      "Train score: 0.6215139442231076\n",
      "Test score: 0.6309523809523809\n",
      "[[29 23]\n",
      " [ 8 24]]\n",
      "TPR: 0.75\n",
      "PPV: 0.5106382978723404\n",
      "TNR: 0.5576923076923077\n",
      "FNR: 0.25\n",
      "FPR: 0.4423076923076923\n",
      "ACC: 0.6309523809523809\n",
      "ODDS: 3.782608695652174\n",
      "AOC: 0.6868990384615385\n",
      "     0    1\n",
      "0  6.0  0.0\n",
      "1  1.0  0.0\n",
      "2  6.0  0.0\n",
      "3  5.0  0.0\n",
      "4  6.0  0.0\n"
     ]
    },
    {
     "data": {
      "image/png": "[encoded data removed]",
      "text/plain": [
       "<Figure size 432x288 with 1 Axes>"
      ]
     },
     "metadata": {
      "needs_background": "light"
     },
     "output_type": "display_data"
    },
    {
     "data": {
      "image/png": "[encoded data removed]",
      "text/plain": [
       "<Figure size 432x288 with 1 Axes>"
      ]
     },
     "metadata": {
      "needs_background": "light"
     },
     "output_type": "display_data"
    }
   ],
   "source": [
    "run_all(\n",
    "    df[df['Gender'] == 1]['Age'],\n",
    "    df[df['Gender'] == 1]['Hepatitis B core antibody']\n",
    ")\n"
   ]
  },
  {
   "cell_type": "markdown",
   "metadata": {},
   "source": [
    "##### With bins"
   ]
  },
  {
   "cell_type": "code",
   "execution_count": 49,
   "metadata": {},
   "outputs": [
    {
     "name": "stdout",
     "output_type": "stream",
     "text": [
      "Train score: 0.9584080315525277\n",
      "Test score: 0.9516129032258065\n",
      "[[885   0]\n",
      " [ 45   0]]\n",
      "TPR: 0.0\n",
      "PPV: nan\n",
      "TNR: 1.0\n",
      "FNR: 1.0\n",
      "FPR: 0.0\n",
      "ACC: 0.9516129032258065\n",
      "ODDS: nan\n",
      "AOC: 0.7035153797865662\n",
      "     0    1\n",
      "0  6.0  0.0\n",
      "1  1.0  0.0\n",
      "2  6.0  0.0\n",
      "3  5.0  0.0\n",
      "4  6.0  0.0\n"
     ]
    },
    {
     "name": "stderr",
     "output_type": "stream",
     "text": [
      "C:\\Users\\admin\\Anaconda3\\lib\\site-packages\\ipykernel_launcher.py:9: RuntimeWarning: invalid value encountered in longlong_scalars\n",
      "  if __name__ == '__main__':\n",
      "C:\\Users\\admin\\Anaconda3\\lib\\site-packages\\ipykernel_launcher.py:19: RuntimeWarning: invalid value encountered in longlong_scalars\n"
     ]
    },
    {
     "data": {
      "image/png": "[encoded data removed]",
      "text/plain": [
       "<Figure size 432x288 with 1 Axes>"
      ]
     },
     "metadata": {
      "needs_background": "light"
     },
     "output_type": "display_data"
    },
    {
     "data": {
      "image/png": "[encoded data removed]",
      "text/plain": [
       "<Figure size 432x288 with 1 Axes>"
      ]
     },
     "metadata": {
      "needs_background": "light"
     },
     "output_type": "display_data"
    }
   ],
   "source": [
    "run_all(\n",
    "    conv_df[conv_df['Gender'] == 1]['Age'],\n",
    "    conv_df[conv_df['Gender'] == 1]['Hepatitis B core antibody']\n",
    ")\n"
   ]
  }
 ],
 "metadata": {
  "kernelspec": {
   "display_name": "Python 3",
   "language": "python",
   "name": "python3"
  },
  "language_info": {
   "codemirror_mode": {
    "name": "ipython",
    "version": 3
   },
   "file_extension": ".py",
   "mimetype": "text/x-python",
   "name": "python",
   "nbconvert_exporter": "python",
   "pygments_lexer": "ipython3",
   "version": "3.7.1"
  }
 },
 "nbformat": 4,
 "nbformat_minor": 2
}
